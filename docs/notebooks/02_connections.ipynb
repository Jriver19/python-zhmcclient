{
 "cells": [
  {
   "cell_type": "markdown",
   "metadata": {},
   "source": [
    "# Tutorial 2: Connecting to an HMC"
   ]
  },
  {
   "cell_type": "markdown",
   "metadata": {},
   "source": [
    "In order to use the zhmcclient package in a Jupyter notebook, it must be installed in the Python environment that was used to start Jupyter. Trying to import it shows whether it is installed:"
   ]
  },
  {
   "cell_type": "code",
   "execution_count": null,
   "metadata": {
    "collapsed": false
   },
   "outputs": [],
   "source": [
    "import zhmcclient"
   ]
  },
  {
   "cell_type": "markdown",
   "metadata": {},
   "source": [
    "If it was not installed, close Jupyter, [install zhmcclient](https://python-zhmcclient.readthedocs.io/en/latest/intro.html#installation), and start Jupyter again."
   ]
  },
  {
   "cell_type": "markdown",
   "metadata": {},
   "source": [
    "When connecting to an HMC, the user needs to create two objects:\n",
    "\n",
    "* A `Session` object that represents a session with the HMC. A `Session` object can be created with or without credentials. It automatically logs on using the provided credentials if a particular HMC operation requires to be logged on. There are a few HMC operations that work without being logged on (e.g. retrieving the API version).\n",
    "\n",
    "* A `Client` object that is created on top of a `Session` object, and that provides the main entry point for the resources managed by the HMC. For example, it can list the CPCs managed by the HMC.\n",
    "\n",
    "The following code creates these two objects for a particular HMC without providing credentials:"
   ]
  },
  {
   "cell_type": "code",
   "execution_count": null,
   "metadata": {
    "collapsed": true
   },
   "outputs": [],
   "source": [
    "import zhmcclient\n",
    "\n",
    "zhmc = '9.152.150.65'\n",
    "\n",
    "session = zhmcclient.Session(zhmc)\n",
    "client = zhmcclient.Client(session)"
   ]
  },
  {
   "cell_type": "markdown",
   "metadata": {},
   "source": [
    "The following code prints the API version supported by that HMC:\n",
    "\n",
    "Note that this code would not have needed the credentials."
   ]
  },
  {
   "cell_type": "code",
   "execution_count": null,
   "metadata": {
    "collapsed": true
   },
   "outputs": [],
   "source": [
    "vi = client.version_info()\n",
    "print(\"HMC API version: {}.{}\".format(vi[0], vi[1]))"
   ]
  },
  {
   "cell_type": "markdown",
   "metadata": {},
   "source": [
    "The following code prints the CPCs managed by that HMC:"
   ]
  },
  {
   "cell_type": "code",
   "execution_count": null,
   "metadata": {
    "collapsed": false
   },
   "outputs": [],
   "source": [
    "print(\"Listing CPCs ...\")\n",
    "cpcs = client.cpcs.list()\n",
    "for cpc in cpcs:\n",
    "    print(cpc)"
   ]
  }
 ],
 "metadata": {
  "kernelspec": {
   "display_name": "Python 2",
   "language": "python",
   "name": "python2"
  },
  "language_info": {
   "codemirror_mode": {
    "name": "ipython",
    "version": 2
   },
   "file_extension": ".py",
   "mimetype": "text/x-python",
   "name": "python",
   "nbconvert_exporter": "python",
   "pygments_lexer": "ipython2",
   "version": "2.7.12"
  }
 },
 "nbformat": 4,
 "nbformat_minor": 0
}
